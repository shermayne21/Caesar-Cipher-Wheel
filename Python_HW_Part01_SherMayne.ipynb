{
 "cells": [
  {
   "cell_type": "markdown",
   "id": "0f77c588-deaf-49b3-92d4-6bebc8be236c",
   "metadata": {},
   "source": [
    "# ANA-522-OL1 Summer21\n",
    "# Mod01 HW: Python HW Part I\n",
    "## Due: Sunday May 30th at midnight  "
   ]
  },
  {
   "cell_type": "markdown",
   "id": "d4ba1e6a-c53c-4966-8f50-e0d0a6f81e20",
   "metadata": {},
   "source": [
    "## Caesar Cipher Wheel\n",
    "\n",
    "The action of a Caesar cipher is to replace each plaintext letter with a different one a fixed number of places down the alphabet. Take a look at [an example on Wikipedia](https://en.wikipedia.org/wiki/Caesar_cipher) to see how it works. You can also play around this [Online Caesar Cipher Wheel](https://computerscienced.co.uk/site/caesar-cipher/) to get the ideas."
   ]
  },
  {
   "cell_type": "markdown",
   "id": "5d366cdd-61c4-4d70-899d-b287518b1488",
   "metadata": {},
   "source": [
    "## Exploring strings and character codings\n",
    ">hint Use help (?) to lookup usages of a function  \n",
    "\n",
    "for example >? ord"
   ]
  },
  {
   "cell_type": "code",
   "execution_count": 1,
   "id": "99f48ebe-0722-423c-9c39-9b63a72ed6d6",
   "metadata": {},
   "outputs": [],
   "source": [
    "?ord"
   ]
  },
  {
   "cell_type": "code",
   "execution_count": 43,
   "id": "8cb26a7e-017e-4865-975c-0baf3a980efd",
   "metadata": {},
   "outputs": [
    {
     "name": "stdout",
     "output_type": "stream",
     "text": [
      "Unicode for character 'A' is 65\n",
      "Unicode for character 'B' is 66\n",
      "Unicode for character 'C' is 67\n",
      "Unicode for character 'a' is 97\n",
      "Unicode for character 'b' is 98\n",
      "Unicode for character 'c' is 99\n"
     ]
    }
   ],
   "source": [
    "# Q: How to lookup code point for a character, say 'A','B','C'? \n",
    "print(\"Unicode for character 'A' is\", ord('A'))\n",
    "print(\"Unicode for character 'B' is\", ord('B'))\n",
    "print(\"Unicode for character 'C' is\", ord('C'))\n",
    "print(\"Unicode for character 'a' is\", ord('a'))\n",
    "print(\"Unicode for character 'b' is\", ord('b'))\n",
    "print(\"Unicode for character 'c' is\", ord('c'))\n"
   ]
  },
  {
   "cell_type": "markdown",
   "id": "cc3fba26-903a-4c0e-85c2-7920280bf9ec",
   "metadata": {},
   "source": [
    "#Q: How to print alphabet of letters from 'A' to 'Z', or from 'a' to 'z'?\n"
   ]
  },
  {
   "cell_type": "code",
   "execution_count": 44,
   "id": "e118ce83-7695-4449-b1cf-4aead231a077",
   "metadata": {},
   "outputs": [
    {
     "name": "stdout",
     "output_type": "stream",
     "text": [
      "0 1 2 3 4 5 6 7 8 9 10 11 12 13 14 15 16 17 18 19 20 21 22 23 24 25 "
     ]
    }
   ],
   "source": [
    "#Q:Is there a convenient way to print all letters?\n",
    "#A:The idea is to specify code point one at a time.  \n",
    "#  And we are using loop statement with the help of range() function to automate the process.\n",
    "#  Test the for lool with numbers first\n",
    "for idx in range(26):\n",
    "    print(idx, end=\" \")"
   ]
  },
  {
   "cell_type": "code",
   "execution_count": 5,
   "id": "fa0ba6a6-5611-4de7-b4b4-1145a32cc868",
   "metadata": {},
   "outputs": [],
   "source": [
    "# from previous observations we know that code point range for alphanet:\n",
    "#  A - Z  : starting at 65\n",
    "#  a - z  : starting at 97 \n",
    "# chr() can be used to retrive character by its code point\n",
    "?chr    "
   ]
  },
  {
   "cell_type": "code",
   "execution_count": 45,
   "id": "f65f36a9-123f-4ee1-ab22-4d22d91b0f66",
   "metadata": {},
   "outputs": [
    {
     "name": "stdout",
     "output_type": "stream",
     "text": [
      "A B C D E F G H I J K L M N O P Q R S T U V W X Y Z \n",
      "a b c d e f g h i j k l m n o p q r s t u v w x y z "
     ]
    }
   ],
   "source": [
    "# Now we can print all letters\n",
    "for idx in range(26):\n",
    "    print(chr(idx+65), end= \" \")\n",
    "print()\n",
    "for idx in range(26):\n",
    "    print(chr(idx+97), end= \" \")"
   ]
  },
  {
   "cell_type": "code",
   "execution_count": 7,
   "id": "aaee7cce-3004-4c00-9994-3ea27195c448",
   "metadata": {},
   "outputs": [
    {
     "name": "stdout",
     "output_type": "stream",
     "text": [
      "A B C D E F G H I J K L M N O P Q R S T U V W X Y Z \n",
      "N O P Q R S T U V W X Y Z [ \\ ] ^ _ ` a b c d e f g "
     ]
    }
   ],
   "source": [
    "# Let's try Caesar Cipher with offet value, say 13, for all upper cases as an example\n",
    "# Print out the original\n",
    "for idx in range(26):\n",
    "    print(chr(idx+65), end= \" \")\n",
    "\n",
    "print()\n",
    "# Print out with the offset\n",
    "offset = 13\n",
    "for idx in range(26):\n",
    "    print(chr(idx+65+offset), end= \" \")"
   ]
  },
  {
   "cell_type": "code",
   "execution_count": 8,
   "id": "a6aa6a93-30d3-4d08-b340-2108521e53d1",
   "metadata": {},
   "outputs": [
    {
     "name": "stdout",
     "output_type": "stream",
     "text": [
      "N O P Q R S T U V W X Y Z A B C D E F G H I J K L M "
     ]
    }
   ],
   "source": [
    "# It was not correct, since the other symbols came in to the mapping\n",
    "# let's fix it by focusing on the cycle of only uppercase letters\n",
    "# Print out with the offset\n",
    "offset = 13\n",
    "for idx in range(26):\n",
    "    print(chr( (idx+offset)%26 + 65), end= \" \")\n",
    "# We fixed it by applying the offset and the cyclic of only 26 upppercase letters\n",
    "# Then apply the starting code point, where A is 65, to every letter. "
   ]
  },
  {
   "cell_type": "code",
   "execution_count": 8,
   "id": "ae9fbacc-f983-4adb-b809-cb7a577f5f5c",
   "metadata": {},
   "outputs": [
    {
     "data": {
      "text/plain": [
       "'Gur Mra bs Clguba, ol Gvz Crgref'"
      ]
     },
     "execution_count": 8,
     "metadata": {},
     "output_type": "execute_result"
    }
   ],
   "source": [
    "## It's time to demystify some secret message now\n",
    "# What does this string say?\n",
    "'Gur Mra bs Clguba, ol Gvz Crgref'\n",
    "# The string was encryped with an offset equals to 13 using Caesar Cipher Wheel\n",
    "# Can you implement Python statements to retrieve the original message?"
   ]
  },
  {
   "cell_type": "code",
   "execution_count": 24,
   "id": "52a3d3c7-3aa8-4edb-8bad-874d31cab88d",
   "metadata": {},
   "outputs": [
    {
     "data": {
      "text/plain": [
       "'The Zen of Python, by Tim Peters'"
      ]
     },
     "execution_count": 24,
     "metadata": {},
     "output_type": "execute_result"
    }
   ],
   "source": [
    "# Your work starts here. \n",
    "secret = 'Gur Mra bs Clguba, ol Gvz Crgref'\n",
    "import codecs\n",
    "codecs.decode(secret, 'rot_13')"
   ]
  },
  {
   "cell_type": "code",
   "execution_count": 46,
   "id": "dfe82b2b-a4d8-4ea6-9b41-c7e69729cdb6",
   "metadata": {},
   "outputs": [
    {
     "name": "stdout",
     "output_type": "stream",
     "text": [
      "L M N O P Q R S T U V W X Y Z A B C D E F G H I J K \n",
      "Esp Kpy zq Ajeszy, mj Etx Apepcd\n"
     ]
    }
   ],
   "source": [
    "# Once the secret message is retrieved\n",
    "# Create a new secret message using caesar cipher\n",
    "# with offset equals to 11\n",
    "# print out the secret message\n",
    "secretmessage = \"The Zen of Python, by Tim Peters\"\n",
    "offset = 11\n",
    "for idx in range(26):\n",
    "    print(chr( (idx+offset)%26 + 65), end= \" \")\n",
    "\n",
    "newmessage = decrypt_msg(secretmessage,11)\n",
    "print()\n",
    "print(newmessage)"
   ]
  }
 ],
 "metadata": {
  "kernelspec": {
   "display_name": "ANA522 (default)",
   "language": "python",
   "name": "ada522"
  },
  "language_info": {
   "codemirror_mode": {
    "name": "ipython",
    "version": 3
   },
   "file_extension": ".py",
   "mimetype": "text/x-python",
   "name": "python",
   "nbconvert_exporter": "python",
   "pygments_lexer": "ipython3",
   "version": "3.8.5"
  }
 },
 "nbformat": 4,
 "nbformat_minor": 5
}
